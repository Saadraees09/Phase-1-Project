{
 "cells": [
  {
   "cell_type": "code",
   "execution_count": null,
   "metadata": {},
   "outputs": [],
   "source": [
    "# PART 1"
   ]
  },
  {
   "cell_type": "code",
   "execution_count": 1,
   "metadata": {},
   "outputs": [],
   "source": [
    "import requests\n",
    "import json\n",
    "import pandas as pd\n",
    "import numpy as np\n",
    "import matplotlib as plt"
   ]
  },
  {
   "cell_type": "code",
   "execution_count": 27,
   "metadata": {},
   "outputs": [],
   "source": [
    "# set theurl and endpoint we want to hit\n",
    "url = 'https://api.yelp.com/v3/businesses/search'\n",
    "url2 = 'https://api.yelp.com/v3/businesses/{id}/reviews'"
   ]
  },
  {
   "cell_type": "code",
   "execution_count": 28,
   "metadata": {},
   "outputs": [],
   "source": [
    "client_id = \"2TNko8fRlzRwhqkvrJTE1A\"\n",
    "api_key= \"WRaElnmVvKVyeugVhRae2QOHQWJFhUyoKuqpXHbE5uZDHKgA32CaYDcjqHwVOifJr57QPLjqIkT8fY2M9K6H2yEzUFJS7nClpT2tlSukjYTGzA5_-SeJVPlnk3PzX3Yx\""
   ]
  },
  {
   "cell_type": "code",
   "execution_count": 29,
   "metadata": {},
   "outputs": [],
   "source": [
    "# from  keys  import  client_id, api_key"
   ]
  },
  {
   "cell_type": "code",
   "execution_count": 30,
   "metadata": {},
   "outputs": [
    {
     "name": "stdout",
     "output_type": "stream",
     "text": [
      "WRaElnmVvKVyeugVhRae2QOHQWJFhUyoKuqpXHbE5uZDHKgA32CaYDcjqHwVOifJr57QPLjqIkT8fY2M9K6H2yEzUFJS7nClpT2tlSukjYTGzA5_-SeJVPlnk3PzX3Yx\n"
     ]
    }
   ],
   "source": [
    "print(api_key)"
   ]
  },
  {
   "cell_type": "code",
   "execution_count": 31,
   "metadata": {},
   "outputs": [],
   "source": [
    "headers = {\n",
    "        'Authorization': 'Bearer {}'.format(api_key),\n",
    "    }"
   ]
  },
  {
   "cell_type": "code",
   "execution_count": 32,
   "metadata": {},
   "outputs": [],
   "source": [
    "term = 'restaurant'\n",
    "location = 'Los Angeles'\n",
    "categories = 'cafe'\n",
    "radius = 3500"
   ]
  },
  {
   "cell_type": "code",
   "execution_count": 33,
   "metadata": {},
   "outputs": [],
   "source": [
    "url_params = {\n",
    "                \"term\": term.replace(' ', '+'),\n",
    "                \"location\": location.replace(' ', '+'),\n",
    "                \"categories\" : categories,\n",
    "                \"radius\": radius,\n",
    "                \"limit\": 50,\n",
    "#                 \"offset\":offset\n",
    "            }"
   ]
  },
  {
   "cell_type": "code",
   "execution_count": 34,
   "metadata": {},
   "outputs": [
    {
     "data": {
      "text/plain": [
       "{'term': 'restaurant',\n",
       " 'location': 'Los+Angeles',\n",
       " 'categories': 'cafe',\n",
       " 'radius': 3500,\n",
       " 'limit': 50}"
      ]
     },
     "execution_count": 34,
     "metadata": {},
     "output_type": "execute_result"
    }
   ],
   "source": [
    "url_params"
   ]
  },
  {
   "cell_type": "code",
   "execution_count": 35,
   "metadata": {},
   "outputs": [],
   "source": [
    "response = requests.get(url, headers=headers, params=url_params)"
   ]
  },
  {
   "cell_type": "code",
   "execution_count": 36,
   "metadata": {},
   "outputs": [
    {
     "data": {
      "text/plain": [
       "200"
      ]
     },
     "execution_count": 36,
     "metadata": {},
     "output_type": "execute_result"
    }
   ],
   "source": [
    "response.status_code"
   ]
  },
  {
   "cell_type": "code",
   "execution_count": 37,
   "metadata": {},
   "outputs": [
    {
     "data": {
      "text/plain": [
       "1400"
      ]
     },
     "execution_count": 37,
     "metadata": {},
     "output_type": "execute_result"
    }
   ],
   "source": [
    "data = response.json()\n",
    "data['total']"
   ]
  },
  {
   "cell_type": "code",
   "execution_count": 38,
   "metadata": {},
   "outputs": [],
   "source": [
    "# PART 2"
   ]
  },
  {
   "cell_type": "code",
   "execution_count": 39,
   "metadata": {},
   "outputs": [],
   "source": [
    "import sqlite3\n",
    "import pandas as pd"
   ]
  },
  {
   "cell_type": "code",
   "execution_count": 40,
   "metadata": {},
   "outputs": [],
   "source": [
    "conn = sqlite3.connect('yelp.db')\n",
    "cursor = conn.cursor()"
   ]
  },
  {
   "cell_type": "code",
   "execution_count": 41,
   "metadata": {},
   "outputs": [
    {
     "ename": "OperationalError",
     "evalue": "table businesses already exists",
     "output_type": "error",
     "traceback": [
      "\u001b[0;31m---------------------------------------------------------------------------\u001b[0m",
      "\u001b[0;31mOperationalError\u001b[0m                          Traceback (most recent call last)",
      "\u001b[0;32m<ipython-input-41-7eb714809fd4>\u001b[0m in \u001b[0;36m<module>\u001b[0;34m\u001b[0m\n\u001b[0;32m----> 1\u001b[0;31m cursor.execute(\"\"\"Create TABLE businesses(\n\u001b[0m\u001b[1;32m      2\u001b[0m                                 \u001b[0mbusinessid\u001b[0m \u001b[0mTEXT\u001b[0m\u001b[0;34m,\u001b[0m\u001b[0;34m\u001b[0m\u001b[0;34m\u001b[0m\u001b[0m\n\u001b[1;32m      3\u001b[0m                                 \u001b[0mrating\u001b[0m \u001b[0mNUMERIC\u001b[0m\u001b[0;34m,\u001b[0m\u001b[0;34m\u001b[0m\u001b[0;34m\u001b[0m\u001b[0m\n\u001b[1;32m      4\u001b[0m                                 \u001b[0mprice\u001b[0m \u001b[0mTEXT\u001b[0m\u001b[0;34m,\u001b[0m\u001b[0;34m\u001b[0m\u001b[0;34m\u001b[0m\u001b[0m\n\u001b[1;32m      5\u001b[0m                                 \u001b[0mname\u001b[0m \u001b[0mTEXT\u001b[0m\u001b[0;34m,\u001b[0m\u001b[0;34m\u001b[0m\u001b[0;34m\u001b[0m\u001b[0m\n",
      "\u001b[0;31mOperationalError\u001b[0m: table businesses already exists"
     ]
    }
   ],
   "source": [
    "cursor.execute(\"\"\"Create TABLE businesses(\n",
    "                                businessid TEXT,\n",
    "                                rating NUMERIC,\n",
    "                                price TEXT,\n",
    "                                name TEXT,\n",
    "                                review_count INTEGER,\n",
    "                                address TEXT,\n",
    "                                is_closed TEXT\n",
    "                                )\n",
    "                \"\"\")\n",
    "conn.commit()"
   ]
  },
  {
   "cell_type": "code",
   "execution_count": null,
   "metadata": {},
   "outputs": [],
   "source": [
    "cursor.execute(\"\"\"Create TABLE reviews(\n",
    "                                businessid TEXT,\n",
    "                                reviewID INTEGER,\n",
    "                                rating NUMERIC,\n",
    "                                time_created TEXT,\n",
    "                                text TEXT\n",
    "                                )\n",
    "                \"\"\")\n",
    "conn.commit()"
   ]
  },
  {
   "cell_type": "code",
   "execution_count": null,
   "metadata": {},
   "outputs": [],
   "source": [
    "def yelp_call(url, url_params, api_key):\n",
    "    response = requests.get(url, headers=headers, params=url_params)\n",
    "    data = response.json()\n",
    "    return data"
   ]
  },
  {
   "cell_type": "code",
   "execution_count": 42,
   "metadata": {},
   "outputs": [],
   "source": [
    "results = yelp_call(url, url_params, api_key)"
   ]
  },
  {
   "cell_type": "code",
   "execution_count": 43,
   "metadata": {},
   "outputs": [],
   "source": [
    "def parse_results(results):\n",
    "    \n",
    "    parsed_results = []\n",
    "    count = 0\n",
    "    \n",
    "    for business in results['businesses']:\n",
    "        for item in ['businessid', 'rating', 'price', 'name', 'review_count', 'address', 'is_closed']:\n",
    "            if item not in business:\n",
    "                business[item] = np.nan\n",
    "            else:\n",
    "                business[item]\n",
    "    \n",
    "        biz_tuple = (business['id'],\n",
    "                business['rating'],\n",
    "                business['price'],\n",
    "                business['name'],\n",
    "                business['review_count'],\n",
    "                business['location']['display_address'][0],\n",
    "                business['is_closed'])\n",
    "        count += 1\n",
    "        parsed_results.append(biz_tuple)\n",
    "    \n",
    "    return parsed_results"
   ]
  },
  {
   "cell_type": "code",
   "execution_count": 44,
   "metadata": {},
   "outputs": [],
   "source": [
    "def db_insert(conn, cursor, parse_results):\n",
    "    for business in parse_results:\n",
    "        add_business = (\"\"\"\n",
    "        INSERT INTO businesses (businessid, rating, price, name, review_count, address, is_closed) \n",
    "        VALUES(?, ?, ?, ?, ?, ?, ?)\n",
    "        \"\"\")\n",
    "    cursor.executemany(add_business, parse_results)\n",
    "    conn.commit()"
   ]
  },
  {
   "cell_type": "code",
   "execution_count": 45,
   "metadata": {},
   "outputs": [
    {
     "name": "stdout",
     "output_type": "stream",
     "text": [
      "1000\n"
     ]
    }
   ],
   "source": [
    "# create a variable  to keep track of which result you are in. \n",
    "cur = 0\n",
    "\n",
    "#set up a while loop to go through and grab the result \n",
    "while cur < 1000:\n",
    "    #set the offset parameter to be where you currently are in the results \n",
    "    url_params['offset'] = cur\n",
    "    #make your API call with the new offset number\n",
    "    results = yelp_call(url, url_params, api_key)\n",
    "    \n",
    "    #after you get your results you can now use your function to parse those results\n",
    "    parsed_results = parse_results(results)\n",
    "    \n",
    "    # use your function to insert your parsed results into the db\n",
    "    db_insert(conn, cursor, parsed_results)\n",
    "    #increment the counter by 50 to move on to the next results\n",
    "    cur += 50\n",
    "    \n",
    "print(cur)"
   ]
  },
  {
   "cell_type": "code",
   "execution_count": null,
   "metadata": {},
   "outputs": [],
   "source": [
    "business_id_list = []\n",
    "for business in "
   ]
  },
  {
   "cell_type": "code",
   "execution_count": null,
   "metadata": {},
   "outputs": [],
   "source": [
    "def yelp_call_reviews(url, api_keyquery):\n",
    "    for ID in lists:\n",
    "        url = 'https://api.yelp.com/v3/businesses/{id}/reviews'.format(ID)\n",
    "    response = requests.get(url, headers=headers)\n",
    "    data = response.json()\n",
    "    return data"
   ]
  },
  {
   "cell_type": "code",
   "execution_count": null,
   "metadata": {},
   "outputs": [],
   "source": [
    "def parse_results(results):\n",
    "    \n",
    "    parsed_results = []\n",
    "    count = 0\n",
    "    \n",
    "    for business in results['businesses']:\n",
    "        for item in ['businessid', 'reviewID', 'rating', 'time', 'address', 'is_closed']:\n",
    "            if item not in business:\n",
    "                business[item] = np.nan\n",
    "            else:\n",
    "                business[item]\n",
    "    \n",
    "        biz_tuple = (business['id'],\n",
    "                business['rating'],\n",
    "                business['price'],\n",
    "                business['name'],\n",
    "                business['review_count'],\n",
    "                business['location']['display_address'][0],\n",
    "                business['is_closed'])\n",
    "        count += 1\n",
    "        parsed_results.append(biz_tuple)\n",
    "    \n",
    "    return parsed_results"
   ]
  },
  {
   "cell_type": "code",
   "execution_count": null,
   "metadata": {},
   "outputs": [],
   "source": [
    "def db_insert(conn, cursor, parse_results):\n",
    "    for business in parse_results:\n",
    "        add_business = (\"\"\"\n",
    "        INSERT INTO reviews (businessid, rating, price, name, review_count, address, is_closed) \n",
    "        VALUES(?, ?, ?, ?, ?, ?, ?)\n",
    "        \"\"\")\n",
    "    cursor.executemany(add_business, parse_results)\n",
    "    conn.commit()"
   ]
  },
  {
   "cell_type": "code",
   "execution_count": null,
   "metadata": {},
   "outputs": [],
   "source": [
    "# create a variable  to keep track of which result you are in. \n",
    "cur = 0\n",
    "\n",
    "#set up a while loop to go through and grab the result \n",
    "while cur < 1000:\n",
    "    #set the offset parameter to be where you currently are in the results \n",
    "    url_params['offset'] = cur\n",
    "    #make your API call with the new offset number\n",
    "    results = yelp_call(url, url_params, api_key)\n",
    "    \n",
    "    #after you get your results you can now use your function to parse those results\n",
    "    parsed_results = parse_results(results)\n",
    "    \n",
    "    # use your function to insert your parsed results into the db\n",
    "    db_insert(conn, cursor, parsed_results)\n",
    "    #increment the counter by 50 to move on to the next results\n",
    "    cur += 50\n",
    "    \n",
    "print(cur)"
   ]
  },
  {
   "cell_type": "raw",
   "metadata": {},
   "source": [
    "review_results['error']['code"
   ]
  },
  {
   "cell_type": "raw",
   "metadata": {},
   "source": []
  }
 ],
 "metadata": {
  "kernelspec": {
   "display_name": "Python 3",
   "language": "python",
   "name": "python3"
  },
  "language_info": {
   "codemirror_mode": {
    "name": "ipython",
    "version": 3
   },
   "file_extension": ".py",
   "mimetype": "text/x-python",
   "name": "python",
   "nbconvert_exporter": "python",
   "pygments_lexer": "ipython3",
   "version": "3.8.5"
  }
 },
 "nbformat": 4,
 "nbformat_minor": 4
}
